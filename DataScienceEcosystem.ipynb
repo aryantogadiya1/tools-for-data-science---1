{
  "metadata": {
    "language_info": {
      "name": ""
    },
    "kernelspec": {
      "name": "python",
      "display_name": "Python (Pyodide)",
      "language": "python"
    }
  },
  "nbformat_minor": 4,
  "nbformat": 4,
  "cells": [
    {
      "cell_type": "markdown",
      "source": "# Data Science Tools and Ecosystem",
      "metadata": {}
    },
    {
      "cell_type": "markdown",
      "source": "### In this notebook, Data Science Tools and Ecosystem are summarized.",
      "metadata": {}
    },
    {
      "cell_type": "markdown",
      "source": "- MArkdown Cell\n- Arithmetic expression\n- table in notebook\n- list ",
      "metadata": {}
    },
    {
      "cell_type": "markdown",
      "source": "Some of the popular languages that Data Scientists use are:",
      "metadata": {}
    },
    {
      "cell_type": "markdown",
      "source": "1. Python\n1. Swift\n1. R\n1. SQL",
      "metadata": {}
    },
    {
      "cell_type": "markdown",
      "source": "Some of the commonly used libraries used by Data Scientists include:",
      "metadata": {}
    },
    {
      "cell_type": "markdown",
      "source": "* Numpy\n* Pandas\n* TensorFlow",
      "metadata": {}
    },
    {
      "cell_type": "markdown",
      "source": "| Data Science Tools |\n| ------------------ |\n|      BigML         |\n|      D3           |\n|MATLAB|\n|Excel |\n|ggplot2|\n",
      "metadata": {}
    },
    {
      "cell_type": "markdown",
      "source": "### Below are a few examples of evaluating arithmetic expressions in Python       ",
      "metadata": {}
    },
    {
      "cell_type": "code",
      "source": "(3*4)+5",
      "metadata": {
        "trusted": true
      },
      "execution_count": null,
      "outputs": []
    },
    {
      "cell_type": "code",
      "source": "# This will convert 200 minutes to hours by diving by 60\n200/60",
      "metadata": {
        "trusted": true
      },
      "execution_count": null,
      "outputs": []
    },
    {
      "cell_type": "markdown",
      "source": "## Author",
      "metadata": {
        "tags": []
      }
    },
    {
      "cell_type": "markdown",
      "source": "- R.K Narayan. R.K Narayan. \n- Mulk Raj Anand. Mulk Raj Anand. ...\n- Khushwant Singh. Khushwant Singh. ...\n- Amrita Pritam. Amrita Pritam. ...\n- Arundhati Roy. Arundhati Roy. ...\n- Aravind Adiga. Aravind Adiga. ...\n- Kiran Desai. Kiran Desai. ...\n- Vikram Seth. Vikram Seth.",
      "metadata": {}
    }
  ]
}